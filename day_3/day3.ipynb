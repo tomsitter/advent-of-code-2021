{
 "cells": [
  {
   "cell_type": "code",
   "execution_count": 14,
   "id": "d61d6048",
   "metadata": {},
   "outputs": [],
   "source": [
    "import numpy as np"
   ]
  },
  {
   "cell_type": "code",
   "execution_count": 56,
   "id": "f94db27d",
   "metadata": {},
   "outputs": [
    {
     "name": "stdout",
     "output_type": "stream",
     "text": [
      "[0 1 1 1 1 1 1 1 1 1 0 1]\n"
     ]
    }
   ],
   "source": [
    "data = []\n",
    "\n",
    "# read file, strip newline from each row, split into characters and covert to list of ints, add all to a numpy array\n",
    "with open('input.txt', 'r') as inp:\n",
    "    data = np.array(\n",
    "        [list(map(int,list(row.strip()))) for row in inp.readlines()])\n",
    "\n",
    "print(data[0])"
   ]
  },
  {
   "cell_type": "markdown",
   "id": "6419544a",
   "metadata": {},
   "source": [
    "## Part 1"
   ]
  },
  {
   "cell_type": "code",
   "execution_count": 67,
   "id": "be92ab14",
   "metadata": {},
   "outputs": [],
   "source": [
    "def digits_to_str(digits):\n",
    "    return ''.join(str(digit) for digit in digits)\n",
    "\n",
    "def digits_to_int(digits):\n",
    "    str_digits = digits_to_str(digits)\n",
    "    return int(str_digits, 2)"
   ]
  },
  {
   "cell_type": "code",
   "execution_count": 74,
   "id": "2a8137bb",
   "metadata": {},
   "outputs": [
    {
     "name": "stdout",
     "output_type": "stream",
     "text": [
      "4174964\n"
     ]
    }
   ],
   "source": [
    "# transpose data with numpy\n",
    "data_T = data.T\n",
    "\n",
    "# get number of '1's in each column\n",
    "sums = np.sum(data_T, axis=1)\n",
    "\n",
    "# get number of readings in each column\n",
    "count = len(data_T[0])\n",
    "\n",
    "# get most common digit in each column ('1' if sum is greater than half the number of item)\n",
    "most_common = np.array([1 if s>=(count/2) else 0 for s in sums])\n",
    "\n",
    "# get the least common digit by inverting the most common\n",
    "least_common = np.array([0 if digit==1 else 1 for digit in most_common])\n",
    "\n",
    "# create binary string for each number\n",
    "epsilon_rate = ''.join(str(digit) for digit in most_common)\n",
    "gamma_rate = ''.join(str(digit) for digit in least_common)\n",
    "\n",
    "\n",
    "# multiple decimal value of gamma and epsilon rates to get solution\n",
    "solution = int(epsilon_rate, 2) * int(gamma_rate, 2)\n",
    "print(solution)"
   ]
  },
  {
   "cell_type": "markdown",
   "id": "e2b32230",
   "metadata": {},
   "source": [
    "## Part 2"
   ]
  },
  {
   "cell_type": "code",
   "execution_count": 93,
   "id": "3fc5e543",
   "metadata": {},
   "outputs": [
    {
     "name": "stdout",
     "output_type": "stream",
     "text": [
      "Binary: O2: [0 0 0 0 0 1 1 1 1 1 1 0], CO2: [1 1 1 1 1 0 0 0 1 1 1 0]\n",
      "Int: O2: 126, CO2: 3982\n",
      "501732\n"
     ]
    }
   ],
   "source": [
    "def get_rating(data, most_common):\n",
    "    num_digits = np.size(data, axis=1)\n",
    "    for i in range(num_digits):\n",
    "        count_of_ones = np.sum(data[: i])       \n",
    "        # if '1' is the most common digit\n",
    "        if (count_of_ones > len(data)/2):\n",
    "            # if we want the most common digit, keep only 1s, else 0s\n",
    "            if most_common:\n",
    "                temp = data[np.where(data[:, i] == 1)]\n",
    "            else:\n",
    "                temp = data[np.where(data[:, i] == 0)]\n",
    "        # if '0' and '1' are equally common. \n",
    "        elif (count_of_ones == len(data)/2):\n",
    "            # if we are looking for most_common digit, keep '1' on tie, else '0'\n",
    "            if most_common:\n",
    "                temp = data[np.where(data[:, i] == 1)]\n",
    "            else:\n",
    "                temp = data[np.where(data[:, i] == 0)]\n",
    "        else:\n",
    "            # '0' is the most common digit\n",
    "            if most_common:\n",
    "                temp = data[np.where(data[:, i] == 0)]\n",
    "            else:\n",
    "                temp = data[np.where(data[:, i] == 1)]\n",
    "                \n",
    "        if len(temp)==1:\n",
    "            # eliminated all but one number, return it\n",
    "            return temp[0]\n",
    "        elif len(temp)==0:\n",
    "            # we removed all of the numbers this orund, so instead just return the last one\n",
    "            return data[-1]\n",
    "        else:\n",
    "            # apply the filter to the data and do another round\n",
    "            data = temp\n",
    "        \n",
    "o2_rating = get_rating(data, most_common=True)\n",
    "co2_rating = get_rating(data, most_common=False)\n",
    "\n",
    "print(f'Binary: O2: {o2_rating}, CO2: {co2_rating}')\n",
    "o2_int = digits_to_int(o2_rating)\n",
    "co2_int = digits_to_int(co2_rating)\n",
    "print(f'Int: O2: {o2_int}, CO2: {co2_int}')\n",
    "\n",
    "solution2 = digits_to_int(o2_rating) * digits_to_int(co2_rating)\n",
    "print(solution2)"
   ]
  },
  {
   "cell_type": "code",
   "execution_count": null,
   "id": "d0f66496",
   "metadata": {},
   "outputs": [],
   "source": []
  }
 ],
 "metadata": {
  "kernelspec": {
   "display_name": "Python 3 (ipykernel)",
   "language": "python",
   "name": "python3"
  },
  "language_info": {
   "codemirror_mode": {
    "name": "ipython",
    "version": 3
   },
   "file_extension": ".py",
   "mimetype": "text/x-python",
   "name": "python",
   "nbconvert_exporter": "python",
   "pygments_lexer": "ipython3",
   "version": "3.7.7"
  }
 },
 "nbformat": 4,
 "nbformat_minor": 5
}
