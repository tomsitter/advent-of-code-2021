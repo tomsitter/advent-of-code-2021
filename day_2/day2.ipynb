{
 "cells": [
  {
   "cell_type": "markdown",
   "id": "667272a5",
   "metadata": {},
   "source": [
    "## Part 1"
   ]
  },
  {
   "cell_type": "code",
   "execution_count": 29,
   "id": "fb82c221",
   "metadata": {},
   "outputs": [
    {
     "data": {
      "text/html": [
       "<div>\n",
       "<style scoped>\n",
       "    .dataframe tbody tr th:only-of-type {\n",
       "        vertical-align: middle;\n",
       "    }\n",
       "\n",
       "    .dataframe tbody tr th {\n",
       "        vertical-align: top;\n",
       "    }\n",
       "\n",
       "    .dataframe thead th {\n",
       "        text-align: right;\n",
       "    }\n",
       "</style>\n",
       "<table border=\"1\" class=\"dataframe\">\n",
       "  <thead>\n",
       "    <tr style=\"text-align: right;\">\n",
       "      <th></th>\n",
       "      <th>direction</th>\n",
       "      <th>amount</th>\n",
       "    </tr>\n",
       "  </thead>\n",
       "  <tbody>\n",
       "    <tr>\n",
       "      <th>0</th>\n",
       "      <td>forward</td>\n",
       "      <td>4</td>\n",
       "    </tr>\n",
       "    <tr>\n",
       "      <th>1</th>\n",
       "      <td>down</td>\n",
       "      <td>9</td>\n",
       "    </tr>\n",
       "    <tr>\n",
       "      <th>2</th>\n",
       "      <td>forward</td>\n",
       "      <td>6</td>\n",
       "    </tr>\n",
       "    <tr>\n",
       "      <th>3</th>\n",
       "      <td>down</td>\n",
       "      <td>5</td>\n",
       "    </tr>\n",
       "    <tr>\n",
       "      <th>4</th>\n",
       "      <td>up</td>\n",
       "      <td>2</td>\n",
       "    </tr>\n",
       "  </tbody>\n",
       "</table>\n",
       "</div>"
      ],
      "text/plain": [
       "  direction  amount\n",
       "0   forward       4\n",
       "1      down       9\n",
       "2   forward       6\n",
       "3      down       5\n",
       "4        up       2"
      ]
     },
     "execution_count": 29,
     "metadata": {},
     "output_type": "execute_result"
    }
   ],
   "source": [
    "import pandas as pd\n",
    "df = pd.read_csv('input.txt', names=['direction', 'amount'], delimiter=' ')\n",
    "df.head()"
   ]
  },
  {
   "cell_type": "code",
   "execution_count": 30,
   "id": "93d6e895",
   "metadata": {},
   "outputs": [
    {
     "name": "stdout",
     "output_type": "stream",
     "text": [
      "Moved 1905 forward and 907 down\n"
     ]
    }
   ],
   "source": [
    "forward = df.loc[df['direction']=='forward']\n",
    "up = df.loc[df['direction']=='up']\n",
    "down = df.loc[df['direction']=='down']\n",
    "\n",
    "horizontal = forward['amount'].sum()\n",
    "vertical = down['amount'].sum() - up['amount'].sum()\n",
    "\n",
    "print(f'Moved {horizontal} forward and {vertical} down')"
   ]
  },
  {
   "cell_type": "code",
   "execution_count": 31,
   "id": "49aea761",
   "metadata": {},
   "outputs": [
    {
     "name": "stdout",
     "output_type": "stream",
     "text": [
      "1727835\n"
     ]
    }
   ],
   "source": [
    "solution = horizontal * vertical\n",
    "print(solution)"
   ]
  },
  {
   "cell_type": "markdown",
   "id": "bb567006",
   "metadata": {},
   "source": [
    "## Part 2"
   ]
  },
  {
   "cell_type": "code",
   "execution_count": 32,
   "id": "aa4992f2",
   "metadata": {
    "scrolled": false
   },
   "outputs": [
    {
     "name": "stdout",
     "output_type": "stream",
     "text": [
      "At position 1905 and depth 810499\n"
     ]
    }
   ],
   "source": [
    "data = open('input.txt', 'r')\n",
    "\n",
    "aim = 0\n",
    "position = 0\n",
    "depth = 0\n",
    "\n",
    "with open('input.txt', 'r') as data:\n",
    "    for row in data:\n",
    "        direction, amount = row.split(' ')\n",
    "        if direction == 'forward':\n",
    "            position = position + int(amount)\n",
    "            depth = depth + (int(amount) * int(aim))\n",
    "        elif direction == 'up':\n",
    "            aim = aim - int(amount)\n",
    "        elif direction == 'down':\n",
    "            aim = aim + int(amount)\n",
    "\n",
    "print(f'At position {position} and depth {depth}')   \n",
    "    "
   ]
  },
  {
   "cell_type": "code",
   "execution_count": 33,
   "id": "203a7626",
   "metadata": {},
   "outputs": [
    {
     "name": "stdout",
     "output_type": "stream",
     "text": [
      "1544000595\n"
     ]
    }
   ],
   "source": [
    "solution2  = position * depth\n",
    "print(solution2)"
   ]
  },
  {
   "cell_type": "code",
   "execution_count": null,
   "id": "cf58fb3a",
   "metadata": {},
   "outputs": [],
   "source": []
  }
 ],
 "metadata": {
  "kernelspec": {
   "display_name": "Python 3 (ipykernel)",
   "language": "python",
   "name": "python3"
  },
  "language_info": {
   "codemirror_mode": {
    "name": "ipython",
    "version": 3
   },
   "file_extension": ".py",
   "mimetype": "text/x-python",
   "name": "python",
   "nbconvert_exporter": "python",
   "pygments_lexer": "ipython3",
   "version": "3.7.7"
  }
 },
 "nbformat": 4,
 "nbformat_minor": 5
}
